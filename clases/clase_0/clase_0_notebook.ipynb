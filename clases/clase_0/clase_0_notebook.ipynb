{
 "cells": [
  {
   "cell_type": "code",
   "execution_count": null,
   "metadata": {
    "colab": {
     "base_uri": "https://localhost:8080/",
     "height": 34
    },
    "executionInfo": {
     "elapsed": 2341,
     "status": "ok",
     "timestamp": 1602615141460,
     "user": {
      "displayName": "Felipe González",
      "photoUrl": "",
      "userId": "08436815197818118314"
     },
     "user_tz": 180
    },
    "id": "WFHCTgn0TgJf",
    "outputId": "39427778-5d79-4c8e-ece5-cc4b83d887fb"
   },
   "outputs": [],
   "source": [
    "# ejecutamos una orden simple (input) y vemos la respuesta (output). Todo lo que empice con # no se interpreta\n",
    "2 + 2"
   ]
  },
  {
   "cell_type": "code",
   "execution_count": null,
   "metadata": {
    "executionInfo": {
     "elapsed": 1068,
     "status": "ok",
     "timestamp": 1602615188149,
     "user": {
      "displayName": "Felipe González",
      "photoUrl": "",
      "userId": "08436815197818118314"
     },
     "user_tz": 180
    },
    "id": "9ABX1GyoTjds"
   },
   "outputs": [],
   "source": [
    "#guardamos objeto en una variable\n",
    "a = 2"
   ]
  },
  {
   "cell_type": "code",
   "execution_count": null,
   "metadata": {
    "colab": {
     "base_uri": "https://localhost:8080/",
     "height": 34
    },
    "executionInfo": {
     "elapsed": 964,
     "status": "ok",
     "timestamp": 1602615205355,
     "user": {
      "displayName": "Felipe González",
      "photoUrl": "",
      "userId": "08436815197818118314"
     },
     "user_tz": 180
    },
    "id": "TdegPC3zTx-S",
    "outputId": "887d0880-2043-4fdb-d78e-061963ae9dba"
   },
   "outputs": [],
   "source": [
    "#vemos la variable\n",
    "a"
   ]
  },
  {
   "cell_type": "code",
   "execution_count": null,
   "metadata": {
    "colab": {
     "base_uri": "https://localhost:8080/",
     "height": 34
    },
    "executionInfo": {
     "elapsed": 1107,
     "status": "ok",
     "timestamp": 1602615227991,
     "user": {
      "displayName": "Felipe González",
      "photoUrl": "",
      "userId": "08436815197818118314"
     },
     "user_tz": 180
    },
    "id": "iyjS62c9T346",
    "outputId": "0f32dccd-7899-402c-c96b-465a7cc98538"
   },
   "outputs": [],
   "source": [
    "#la utilizamos luego\n",
    "a + 3"
   ]
  },
  {
   "cell_type": "code",
   "execution_count": null,
   "metadata": {
    "executionInfo": {
     "elapsed": 1095,
     "status": "ok",
     "timestamp": 1602615272931,
     "user": {
      "displayName": "Felipe González",
      "photoUrl": "",
      "userId": "08436815197818118314"
     },
     "user_tz": 180
    },
    "id": "tDEzWQs9T8JW"
   },
   "outputs": [],
   "source": [
    "#si cambiamos la variable esta se modifica\n",
    "a = 5"
   ]
  },
  {
   "cell_type": "code",
   "execution_count": null,
   "metadata": {
    "colab": {
     "base_uri": "https://localhost:8080/",
     "height": 34
    },
    "executionInfo": {
     "elapsed": 1322,
     "status": "ok",
     "timestamp": 1602615273372,
     "user": {
      "displayName": "Felipe González",
      "photoUrl": "",
      "userId": "08436815197818118314"
     },
     "user_tz": 180
    },
    "id": "74Seh-0rUB5S",
    "outputId": "04a273a9-70bc-4177-a350-acd513dab2fa"
   },
   "outputs": [],
   "source": [
    "a + 3"
   ]
  },
  {
   "cell_type": "code",
   "execution_count": null,
   "metadata": {
    "colab": {
     "base_uri": "https://localhost:8080/",
     "height": 442
    },
    "executionInfo": {
     "elapsed": 9423,
     "status": "ok",
     "timestamp": 1601299599353,
     "user": {
      "displayName": "Felipe González",
      "photoUrl": "",
      "userId": "08436815197818118314"
     },
     "user_tz": 180
    },
    "id": "6E9TKBJS5AZ-",
    "outputId": "d48dcc8f-ff25-4e86-955f-737a83e21628"
   },
   "outputs": [],
   "source": [
    "# instalo geopandas \n",
    "!pip install geopandas"
   ]
  },
  {
   "cell_type": "code",
   "execution_count": null,
   "metadata": {
    "colab": {
     "base_uri": "https://localhost:8080/",
     "height": 255
    },
    "executionInfo": {
     "elapsed": 4251,
     "status": "ok",
     "timestamp": 1601299608402,
     "user": {
      "displayName": "Felipe González",
      "photoUrl": "",
      "userId": "08436815197818118314"
     },
     "user_tz": 180
    },
    "id": "bECdO6bu5AaD",
    "outputId": "8575c56a-da21-439e-a184-735b92dcd561"
   },
   "outputs": [],
   "source": [
    "# instalo mapclassify\n",
    "!pip install mapclassify"
   ]
  },
  {
   "cell_type": "code",
   "execution_count": null,
   "metadata": {
    "id": "MjwdcUq35AaI"
   },
   "outputs": [],
   "source": [
    "# importo librerias\n",
    "import geopandas as gpd\n",
    "import seaborn as sns\n",
    "import matplotlib.pyplot as plt"
   ]
  },
  {
   "cell_type": "code",
   "execution_count": null,
   "metadata": {
    "colab": {
     "base_uri": "https://localhost:8080/",
     "height": 119
    },
    "executionInfo": {
     "elapsed": 2656,
     "status": "ok",
     "timestamp": 1601299618043,
     "user": {
      "displayName": "Felipe González",
      "photoUrl": "",
      "userId": "08436815197818118314"
     },
     "user_tz": 180
    },
    "id": "MPEWhqcF5AaM",
    "outputId": "e714db83-1cba-42ac-ee4f-02daf2239d29"
   },
   "outputs": [],
   "source": [
    "# descargo los datos\n",
    "!git clone https://github.com/alephcero/untref_analisis_espacial_2020.git"
   ]
  },
  {
   "cell_type": "code",
   "execution_count": null,
   "metadata": {
    "id": "sJibsxNc5AaQ"
   },
   "outputs": [],
   "source": [
    "radios = gpd.read_file('/content/untref_analisis_espacial_2020/carto/caba_radios_censales.geojson')"
   ]
  },
  {
   "cell_type": "code",
   "execution_count": null,
   "metadata": {
    "colab": {
     "base_uri": "https://localhost:8080/",
     "height": 204
    },
    "executionInfo": {
     "elapsed": 775,
     "status": "ok",
     "timestamp": 1601299624028,
     "user": {
      "displayName": "Felipe González",
      "photoUrl": "",
      "userId": "08436815197818118314"
     },
     "user_tz": 180
    },
    "id": "N39jInKP5AaU",
    "outputId": "9710fff8-8ede-433e-e017-fe17cfd83a6e"
   },
   "outputs": [],
   "source": [
    "#visualizo los primeros registros de mi variable radios\n",
    "radios.head()"
   ]
  },
  {
   "cell_type": "code",
   "execution_count": null,
   "metadata": {
    "colab": {
     "base_uri": "https://localhost:8080/",
     "height": 282
    },
    "executionInfo": {
     "elapsed": 2604,
     "status": "ok",
     "timestamp": 1601299627260,
     "user": {
      "displayName": "Felipe González",
      "photoUrl": "",
      "userId": "08436815197818118314"
     },
     "user_tz": 180
    },
    "id": "Au-yHt6h5AaX",
    "outputId": "8a4e4b52-d69d-4e7a-b943-9426963173c0"
   },
   "outputs": [],
   "source": [
    "#realizo un primer plot sencillo de mi shape\n",
    "radios.plot()"
   ]
  },
  {
   "cell_type": "code",
   "execution_count": null,
   "metadata": {
    "colab": {
     "base_uri": "https://localhost:8080/",
     "height": 282
    },
    "executionInfo": {
     "elapsed": 2517,
     "status": "ok",
     "timestamp": 1601299644888,
     "user": {
      "displayName": "Felipe González",
      "photoUrl": "",
      "userId": "08436815197818118314"
     },
     "user_tz": 180
    },
    "id": "p3Rj3lOf5Aab",
    "outputId": "c4e1f01a-6a9f-4a9b-b18c-5a73e5530a7f"
   },
   "outputs": [],
   "source": [
    "#realizo otro plot sin especificar algun criterio de visualizacion\n",
    "radios.plot(column = \"POBLACION\")"
   ]
  },
  {
   "cell_type": "code",
   "execution_count": null,
   "metadata": {
    "colab": {
     "base_uri": "https://localhost:8080/",
     "height": 282
    },
    "executionInfo": {
     "elapsed": 4680,
     "status": "ok",
     "timestamp": 1601299694794,
     "user": {
      "displayName": "Felipe González",
      "photoUrl": "",
      "userId": "08436815197818118314"
     },
     "user_tz": 180
    },
    "id": "NRjiOVQI5Aaf",
    "outputId": "6fc2c612-8158-4175-ef2e-73750585e1b8"
   },
   "outputs": [],
   "source": [
    "#realizo un plot especificando criterios de visualizacion de 10 quintiles \n",
    "radios.plot(column = \"POBLACION\", scheme = \"Quantiles\", k = 10)"
   ]
  },
  {
   "cell_type": "code",
   "execution_count": null,
   "metadata": {
    "colab": {
     "base_uri": "https://localhost:8080/",
     "height": 204
    },
    "executionInfo": {
     "elapsed": 1685,
     "status": "ok",
     "timestamp": 1601299672874,
     "user": {
      "displayName": "Felipe González",
      "photoUrl": "",
      "userId": "08436815197818118314"
     },
     "user_tz": 180
    },
    "id": "i0JllYQd5Aai",
    "outputId": "fca6af93-5dce-4718-9be8-9e5527b6cb31"
   },
   "outputs": [],
   "source": [
    "#reproyecto mi cartografia a una proyeccion en metros. Pueden leer mas en: http://epsg.io/3857\n",
    "radios_metros = radios.to_crs(epsg = 3857)\n",
    "radios_metros.head()"
   ]
  },
  {
   "cell_type": "code",
   "execution_count": null,
   "metadata": {
    "colab": {
     "base_uri": "https://localhost:8080/",
     "height": 306
    },
    "executionInfo": {
     "elapsed": 2330,
     "status": "ok",
     "timestamp": 1601299706139,
     "user": {
      "displayName": "Felipe González",
      "photoUrl": "",
      "userId": "08436815197818118314"
     },
     "user_tz": 180
    },
    "id": "0GzYVU6w5Aam",
    "outputId": "424f4097-81b5-49d1-f7ef-1bc277c2648a"
   },
   "outputs": [],
   "source": [
    "#los ejes de coordenadas ya nos nuestran un cambio de unidad de medida\n",
    "radios_metros.plot()"
   ]
  },
  {
   "cell_type": "code",
   "execution_count": null,
   "metadata": {
    "id": "4d7UlPWN5Aaq"
   },
   "outputs": [],
   "source": [
    "#obtenemos el area de cada radio censal al extraer la PROPIEDAD geografica area de nuestra columna geometry. Area no lleva () porque es una propiedad, no una funcion. Veremos esto mas adelante.\n",
    "radios_metros[\"area_m\"] = radios_metros.geometry.area"
   ]
  },
  {
   "cell_type": "code",
   "execution_count": null,
   "metadata": {
    "id": "MzAJQoCv5Aat"
   },
   "outputs": [],
   "source": [
    "#como nuestra proyeccion esta en metros y queremos pasarlo a km2, debemos dividir nuestra columna area en metros (area_m) por 1000000\n",
    "radios_metros[\"area_km\"] = radios_metros.area_m / 1000000"
   ]
  },
  {
   "cell_type": "code",
   "execution_count": null,
   "metadata": {
    "colab": {
     "base_uri": "https://localhost:8080/",
     "height": 204
    },
    "executionInfo": {
     "elapsed": 902,
     "status": "ok",
     "timestamp": 1601299723966,
     "user": {
      "displayName": "Felipe González",
      "photoUrl": "",
      "userId": "08436815197818118314"
     },
     "user_tz": 180
    },
    "id": "In32K5vn5Aax",
    "outputId": "f67fe97f-8bce-4a18-ce17-8b7ec9797ac5"
   },
   "outputs": [],
   "source": [
    "#finalmente dividimos nuestra poblacion por el area en km2\n",
    "radios_metros['densidad'] = radios_metros.POBLACION / radios_metros.area_km\n",
    "\n",
    "radios_metros.head()"
   ]
  },
  {
   "cell_type": "code",
   "execution_count": null,
   "metadata": {
    "colab": {
     "base_uri": "https://localhost:8080/",
     "height": 306
    },
    "executionInfo": {
     "elapsed": 2254,
     "status": "ok",
     "timestamp": 1601299762120,
     "user": {
      "displayName": "Felipe González",
      "photoUrl": "",
      "userId": "08436815197818118314"
     },
     "user_tz": 180
    },
    "id": "wyNNaZQY5Aa0",
    "outputId": "397f9e1c-3972-4729-f034-9153baa70d3b"
   },
   "outputs": [],
   "source": [
    "#ploteamos los resultados\n",
    "radios_metros.plot(column = \"densidad\",scheme = \"Quantiles\", k = 10)"
   ]
  },
  {
   "cell_type": "code",
   "execution_count": null,
   "metadata": {
    "colab": {
     "base_uri": "https://localhost:8080/",
     "height": 204
    },
    "executionInfo": {
     "elapsed": 850,
     "status": "ok",
     "timestamp": 1601299826702,
     "user": {
      "displayName": "Felipe González",
      "photoUrl": "",
      "userId": "08436815197818118314"
     },
     "user_tz": 180
    },
    "id": "VbtyZSF450KT",
    "outputId": "c418895d-bfec-47bf-f8e1-aec2e0d9895a"
   },
   "outputs": [],
   "source": [
    "# podemos visualizar menos datos, solo algunas columnas \n",
    "radios_metros.loc[:,['RADIO_ID','densidad']].head()"
   ]
  },
  {
   "cell_type": "code",
   "execution_count": null,
   "metadata": {
    "colab": {
     "base_uri": "https://localhost:8080/",
     "height": 297
    },
    "executionInfo": {
     "elapsed": 894,
     "status": "ok",
     "timestamp": 1601299856685,
     "user": {
      "displayName": "Felipe González",
      "photoUrl": "",
      "userId": "08436815197818118314"
     },
     "user_tz": 180
    },
    "id": "HWamGVJ_6ERz",
    "outputId": "d9ac9ded-d360-439a-c6e5-d2bffb4e4a5b"
   },
   "outputs": [],
   "source": [
    "# o solo algunas filas\n",
    "radios_metros.loc[:7,['RADIO_ID','densidad']]"
   ]
  },
  {
   "cell_type": "code",
   "execution_count": null,
   "metadata": {
    "colab": {
     "base_uri": "https://localhost:8080/",
     "height": 419
    },
    "executionInfo": {
     "elapsed": 979,
     "status": "ok",
     "timestamp": 1601299908910,
     "user": {
      "displayName": "Felipe González",
      "photoUrl": "",
      "userId": "08436815197818118314"
     },
     "user_tz": 180
    },
    "id": "0sbJudUR6Llm",
    "outputId": "0ba50593-25ba-4058-b4aa-04098301029b"
   },
   "outputs": [],
   "source": [
    "#podemos hacer esto mismo seleccionando valores de la variable\n",
    "radios_metros.loc[radios_metros.BARRIO == 'RETIRO',['RADIO_ID','BARRIO','densidad']]"
   ]
  },
  {
   "cell_type": "code",
   "execution_count": null,
   "metadata": {
    "colab": {
     "base_uri": "https://localhost:8080/",
     "height": 302
    },
    "executionInfo": {
     "elapsed": 1142,
     "status": "ok",
     "timestamp": 1601299976358,
     "user": {
      "displayName": "Felipe González",
      "photoUrl": "",
      "userId": "08436815197818118314"
     },
     "user_tz": 180
    },
    "id": "_gM080be6Pmb",
    "outputId": "34c92130-335b-4a87-9dd8-a627550f68c8"
   },
   "outputs": [],
   "source": [
    "# vemos que tanto al principio como al final todos los registros (91 en este caso) son de retiro. \n",
    "# pero la ventaja de datos espaciales es que podemos visualizarlos y ver si obtuvimos lo que queriamos\n",
    "# AGREGAMOS LA VARIABLE GEOMETRY, ES IMPORTANTE!\n",
    "\n",
    "radios_metros.loc[radios_metros.BARRIO == 'RETIRO',['RADIO_ID','BARRIO','densidad','geometry']].plot()"
   ]
  },
  {
   "cell_type": "code",
   "execution_count": null,
   "metadata": {
    "colab": {
     "base_uri": "https://localhost:8080/",
     "height": 289
    },
    "executionInfo": {
     "elapsed": 921,
     "status": "ok",
     "timestamp": 1601300153962,
     "user": {
      "displayName": "Felipe González",
      "photoUrl": "",
      "userId": "08436815197818118314"
     },
     "user_tz": 180
    },
    "id": "mrqY2QU07C5u",
    "outputId": "d726aa69-8a49-44d8-dc55-ea428b6ab0dd"
   },
   "outputs": [],
   "source": [
    "# vamos a seleccionar radios de la comuna 4 y ver de obtener algunos estadisticos. \n",
    "# Asi vemos que CANTIDAD de radios hay en cada comuna\n",
    "radios_metros.COMUNA.value_counts()"
   ]
  },
  {
   "cell_type": "code",
   "execution_count": null,
   "metadata": {
    "id": "x9U69qni7YDQ"
   },
   "outputs": [],
   "source": [
    "# podemos leer la documentacion y ver si podemos obtenerlo porcentajes\n",
    "radios_metros.COMUNA.value_counts?"
   ]
  },
  {
   "cell_type": "code",
   "execution_count": null,
   "metadata": {
    "colab": {
     "base_uri": "https://localhost:8080/",
     "height": 289
    },
    "executionInfo": {
     "elapsed": 1119,
     "status": "ok",
     "timestamp": 1601300259664,
     "user": {
      "displayName": "Felipe González",
      "photoUrl": "",
      "userId": "08436815197818118314"
     },
     "user_tz": 180
    },
    "id": "7DS06iTd7n04",
    "outputId": "f494f7da-42b9-4ddf-d551-89816d5657a0"
   },
   "outputs": [],
   "source": [
    "# asi los tenemos en proporciones\n",
    "radios_metros.COMUNA.value_counts(normalize = True) "
   ]
  },
  {
   "cell_type": "code",
   "execution_count": null,
   "metadata": {
    "colab": {
     "base_uri": "https://localhost:8080/",
     "height": 289
    },
    "executionInfo": {
     "elapsed": 957,
     "status": "ok",
     "timestamp": 1601300278373,
     "user": {
      "displayName": "Felipe González",
      "photoUrl": "",
      "userId": "08436815197818118314"
     },
     "user_tz": 180
    },
    "id": "UYBgsEac7vCz",
    "outputId": "18c5ad8c-27ea-465b-9e44-ee22e660b1b8"
   },
   "outputs": [],
   "source": [
    "# para porcentajes solo tenemos que multiplicar por 100\n",
    "radios_metros.COMUNA.value_counts(normalize = True) * 100"
   ]
  },
  {
   "cell_type": "code",
   "execution_count": null,
   "metadata": {
    "colab": {
     "base_uri": "https://localhost:8080/",
     "height": 235
    },
    "executionInfo": {
     "elapsed": 918,
     "status": "ok",
     "timestamp": 1601300427437,
     "user": {
      "displayName": "Felipe González",
      "photoUrl": "",
      "userId": "08436815197818118314"
     },
     "user_tz": 180
    },
    "id": "6EOxcBHt77GC",
    "outputId": "ff550f44-5472-4cab-8304-9125e035d55c"
   },
   "outputs": [],
   "source": [
    "#creamos otra variable que sea el % de hogaron con NBI por radio\n",
    "radios_metros['NBI'] = radios_metros['HOGARES_NBI'] / radios_metros['HOGARES'] * 100\n",
    "radios_metros.loc[:5,['RADIO_ID','NBI']]"
   ]
  },
  {
   "cell_type": "code",
   "execution_count": null,
   "metadata": {
    "colab": {
     "base_uri": "https://localhost:8080/",
     "height": 170
    },
    "executionInfo": {
     "elapsed": 945,
     "status": "ok",
     "timestamp": 1601300781983,
     "user": {
      "displayName": "Felipe González",
      "photoUrl": "",
      "userId": "08436815197818118314"
     },
     "user_tz": 180
    },
    "id": "AHZUZsdB8YLy",
    "outputId": "eb53b066-4bfa-4ef3-fbb8-b89d5d4d79f6"
   },
   "outputs": [],
   "source": [
    "#obtenemos estadisticos\n",
    "estadisticos_caba = radios_metros.NBI.describe()\n",
    "estadisticos_caba"
   ]
  },
  {
   "cell_type": "code",
   "execution_count": null,
   "metadata": {
    "colab": {
     "base_uri": "https://localhost:8080/",
     "height": 34
    },
    "executionInfo": {
     "elapsed": 867,
     "status": "ok",
     "timestamp": 1601300830110,
     "user": {
      "displayName": "Felipe González",
      "photoUrl": "",
      "userId": "08436815197818118314"
     },
     "user_tz": 180
    },
    "id": "Md35wwuz9ucs",
    "outputId": "201fb83e-cd2f-4c2d-f4ab-f666cd1e3606"
   },
   "outputs": [],
   "source": [
    "nbi_caba = estadisticos_caba['mean']\n",
    "print('El NBI en CABA es de:',nbi_caba)"
   ]
  },
  {
   "cell_type": "code",
   "execution_count": null,
   "metadata": {
    "colab": {
     "base_uri": "https://localhost:8080/",
     "height": 296
    },
    "executionInfo": {
     "elapsed": 1271,
     "status": "ok",
     "timestamp": 1601300576772,
     "user": {
      "displayName": "Felipe González",
      "photoUrl": "",
      "userId": "08436815197818118314"
     },
     "user_tz": 180
    },
    "id": "4wBYoXOY8qmO",
    "outputId": "33a2f934-6826-4948-8e5e-a55ed8634f7e"
   },
   "outputs": [],
   "source": [
    "#hay relacion entre densidad y NBI ?\n",
    "sns.regplot(x=\"NBI\", y=\"densidad\", data=radios_metros)"
   ]
  },
  {
   "cell_type": "code",
   "execution_count": null,
   "metadata": {
    "colab": {
     "base_uri": "https://localhost:8080/",
     "height": 272
    },
    "executionInfo": {
     "elapsed": 1132,
     "status": "ok",
     "timestamp": 1601300731207,
     "user": {
      "displayName": "Felipe González",
      "photoUrl": "",
      "userId": "08436815197818118314"
     },
     "user_tz": 180
    },
    "id": "dbH1SvT26m8C",
    "outputId": "254f2edc-647b-4e03-b2bc-7a0c40ee0e9a"
   },
   "outputs": [],
   "source": [
    "comuna_4 =  radios_metros.loc[ radios_metros.COMUNA == '4',['RADIO_ID','NBI','geometry']]\n",
    "comuna_4.plot(column = \"NBI\",scheme = \"Quantiles\", k = 5)"
   ]
  },
  {
   "cell_type": "code",
   "execution_count": null,
   "metadata": {
    "colab": {
     "base_uri": "https://localhost:8080/",
     "height": 170
    },
    "executionInfo": {
     "elapsed": 1082,
     "status": "ok",
     "timestamp": 1601300863396,
     "user": {
      "displayName": "Felipe González",
      "photoUrl": "",
      "userId": "08436815197818118314"
     },
     "user_tz": 180
    },
    "id": "O3CbDoes7AwB",
    "outputId": "539d77f3-77e6-4633-a000-0c016dc6175b"
   },
   "outputs": [],
   "source": [
    "estadisticos_comuna_4 = comuna_4.NBI.describe()\n",
    "estadisticos_comuna_4"
   ]
  },
  {
   "cell_type": "code",
   "execution_count": null,
   "metadata": {
    "colab": {
     "base_uri": "https://localhost:8080/",
     "height": 34
    },
    "executionInfo": {
     "elapsed": 878,
     "status": "ok",
     "timestamp": 1601300948150,
     "user": {
      "displayName": "Felipe González",
      "photoUrl": "",
      "userId": "08436815197818118314"
     },
     "user_tz": 180
    },
    "id": "X5meHuBu7CYU",
    "outputId": "af76afa2-ccd9-45c1-b15b-711db96566c3"
   },
   "outputs": [],
   "source": [
    "nbi_comuna_4 = estadisticos_comuna_4['mean']\n",
    "nbi_comuna_4"
   ]
  },
  {
   "cell_type": "code",
   "execution_count": null,
   "metadata": {
    "colab": {
     "base_uri": "https://localhost:8080/",
     "height": 34
    },
    "executionInfo": {
     "elapsed": 616,
     "status": "ok",
     "timestamp": 1601300958107,
     "user": {
      "displayName": "Felipe González",
      "photoUrl": "",
      "userId": "08436815197818118314"
     },
     "user_tz": 180
    },
    "id": "g8VylXiv7BjJ",
    "outputId": "c4e9ac94-eae8-4a81-9535-745752a7d4b0"
   },
   "outputs": [],
   "source": [
    "print('El NBI en CABA es de %.2f mientras que en la Comuna 4 es de %.2f' % (nbi_caba,nbi_comuna_4))"
   ]
  },
  {
   "cell_type": "code",
   "execution_count": null,
   "metadata": {
    "colab": {
     "base_uri": "https://localhost:8080/",
     "height": 34
    },
    "executionInfo": {
     "elapsed": 907,
     "status": "ok",
     "timestamp": 1601301057534,
     "user": {
      "displayName": "Felipe González",
      "photoUrl": "",
      "userId": "08436815197818118314"
     },
     "user_tz": 180
    },
    "id": "DrC9oBjt-WXu",
    "outputId": "d0cc73fd-4cd3-47a3-f02d-931e87a7c012"
   },
   "outputs": [],
   "source": [
    "#Podemos agregar algo de logica\n",
    "if nbi_caba > nbi_comuna_4:\n",
    "  texto_comparativo = 'ALTO'\n",
    "else:\n",
    "  texto_comparativo = 'BAJO'\n",
    "\n",
    "print('El NBI en CABA es mas %s que el de la Comuna 4, ya que mientras que en CABA es de %.2f, en la Comuna 4 es de %.2f' % (texto_comparativo,nbi_caba,nbi_comuna_4))"
   ]
  }
 ],
 "metadata": {
  "colab": {
   "collapsed_sections": [],
   "name": "clase_0_notebook.ipynb",
   "provenance": []
  },
  "kernelspec": {
   "display_name": "Python 3",
   "language": "python",
   "name": "python3"
  },
  "language_info": {
   "codemirror_mode": {
    "name": "ipython",
    "version": 3
   },
   "file_extension": ".py",
   "mimetype": "text/x-python",
   "name": "python",
   "nbconvert_exporter": "python",
   "pygments_lexer": "ipython3",
   "version": "3.7.6"
  }
 },
 "nbformat": 4,
 "nbformat_minor": 1
}
