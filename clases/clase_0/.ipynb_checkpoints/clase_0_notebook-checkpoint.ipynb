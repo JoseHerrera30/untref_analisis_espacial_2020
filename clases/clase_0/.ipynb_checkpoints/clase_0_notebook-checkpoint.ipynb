{
 "cells": [
  {
   "cell_type": "code",
   "execution_count": null,
   "metadata": {},
   "outputs": [],
   "source": [
    "# instalo geopandas \n",
    "!pip install geopandas"
   ]
  },
  {
   "cell_type": "code",
   "execution_count": null,
   "metadata": {},
   "outputs": [],
   "source": [
    "# instalo mapclassify\n",
    "!pip install mapclassify"
   ]
  },
  {
   "cell_type": "code",
   "execution_count": null,
   "metadata": {},
   "outputs": [],
   "source": [
    "# importo librerias\n",
    "import geopandas as gpd\n",
    "import matplotlib.pyplot as plt"
   ]
  },
  {
   "cell_type": "code",
   "execution_count": null,
   "metadata": {},
   "outputs": [],
   "source": [
    "# descargo los datos\n",
    "!git clone https://github.com/alephcero/untref_analisis_espacial_2020.git"
   ]
  },
  {
   "cell_type": "code",
   "execution_count": null,
   "metadata": {},
   "outputs": [],
   "source": [
    "radios = gpd.read_file('/content/untref_analisis_espacial_2020/carto/caba_radios_censales.geojson')"
   ]
  },
  {
   "cell_type": "code",
   "execution_count": null,
   "metadata": {},
   "outputs": [],
   "source": [
    "#visualizo los primeros registros de mi variable radios\n",
    "radios.head()"
   ]
  },
  {
   "cell_type": "code",
   "execution_count": null,
   "metadata": {},
   "outputs": [],
   "source": [
    "#realizo un primer plot sencillo de mi shape\n",
    "radios.plot()"
   ]
  },
  {
   "cell_type": "code",
   "execution_count": null,
   "metadata": {},
   "outputs": [],
   "source": [
    "#realizo otro plot sin especificar algun criterio de visualizacion\n",
    "radios.plot(column = \"POBLACI\")"
   ]
  },
  {
   "cell_type": "code",
   "execution_count": null,
   "metadata": {},
   "outputs": [],
   "source": [
    "#realizo un plot especificando criterios de visualizacion de 10 quintiles \n",
    "radios.plot(column = \"POBLACI\", scheme = \"Quantiles\", k = 10)"
   ]
  },
  {
   "cell_type": "code",
   "execution_count": null,
   "metadata": {},
   "outputs": [],
   "source": [
    "#reproyecto mi shape a una proyeccion en metros. Pueden leer mas en: http://epsg.io/3857\n",
    "radios_metros = radios.to_crs(epsg = 3857)\n",
    "radios_metros.head()"
   ]
  },
  {
   "cell_type": "code",
   "execution_count": null,
   "metadata": {},
   "outputs": [],
   "source": [
    "#los ejes de coordenadas ya nos nuestran un cambio de unidad de medida\n",
    "radios_metros.plot()"
   ]
  },
  {
   "cell_type": "code",
   "execution_count": null,
   "metadata": {},
   "outputs": [],
   "source": [
    "#obtenemos el area de cada radio censal al extraer la PROPIEDAD geografica area de nuestra columna geometry. Area no lleva () porque es una propiedad, no una funcion. Veremos esto mas adelante.\n",
    "radios_metros[\"area_m\"] = radios_metros.geometry.area"
   ]
  },
  {
   "cell_type": "code",
   "execution_count": null,
   "metadata": {},
   "outputs": [],
   "source": [
    "#como nuestra proyeccion esta en metros y queremos pasarlo a km2, debemos dividir nuestra columna area en metros (area_m) por 1000000\n",
    "radios_metros[\"area_km\"] = radios_metros.area_m / 1000000"
   ]
  },
  {
   "cell_type": "code",
   "execution_count": null,
   "metadata": {},
   "outputs": [],
   "source": [
    "#finalmente dividimos nuestra poblacion por el area en km2\n",
    "radios_metros['densidad'] = radios_metros.POBLACI / radios_metros.area_km\n",
    "\n",
    "radios_metros.head()"
   ]
  },
  {
   "cell_type": "code",
   "execution_count": null,
   "metadata": {},
   "outputs": [],
   "source": [
    "#ploteamos los resultados\n",
    "radios_metros.plot(column = \"densidad\",scheme = \"Quantiles\", k = 10)"
   ]
  }
 ],
 "metadata": {
  "kernelspec": {
   "display_name": "Python 3",
   "language": "python",
   "name": "python3"
  },
  "language_info": {
   "codemirror_mode": {
    "name": "ipython",
    "version": 3
   },
   "file_extension": ".py",
   "mimetype": "text/x-python",
   "name": "python",
   "nbconvert_exporter": "python",
   "pygments_lexer": "ipython3",
   "version": "3.7.6"
  }
 },
 "nbformat": 4,
 "nbformat_minor": 4
}
